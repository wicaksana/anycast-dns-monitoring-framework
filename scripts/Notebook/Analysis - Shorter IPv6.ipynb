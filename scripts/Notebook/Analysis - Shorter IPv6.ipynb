{
 "cells": [
  {
   "cell_type": "code",
   "execution_count": 1,
   "metadata": {
    "collapsed": true
   },
   "outputs": [],
   "source": [
    "%matplotlib inline\n",
    "from ggplot import *\n",
    "import pandas as pd\n",
    "import matplotlib.pyplot as plt\n",
    "import matplotlib\n",
    "from datetime import datetime\n",
    "import csv\n",
    "from pandas import DataFrame\n",
    "from pymongo import MongoClient, ASCENDING, DESCENDING\n",
    "from bson.code import Code\n",
    "\n",
    "client = MongoClient()\n",
    "anycast = client.anycast_monitoring\n",
    "\n",
    "root_list = 'acdfijklm'\n",
    "\n",
    "# D-root should not be included here, since they use commercial providers (PCH and Maxgigapop) as their upstream.\n",
    "# besides, they do not provide information related to their peering policy, which means that they implement the closed one\n",
    "# F-root should be categorized as root with single upstream, since the penultimate AS is their location identifier\n",
    "# C-root should be excluded since it is operated by commercial organization and does not implement open peering policy\n",
    "# I-root uses upstream AS 8674 (Netnod) which is used to peer with I-root\n",
    "root_with_single_upstream = 'cfi'\n",
    "\n",
    "# to find shorter IPv4 path\n",
    "where_query = \"\"\"\n",
    "function() {\n",
    "    if(this.path4.length > this.path6.length ) {\n",
    "        return true;\n",
    "    } else {\n",
    "        return false;\n",
    "    }\n",
    "}\n",
    "\"\"\""
   ]
  },
  {
   "cell_type": "markdown",
   "metadata": {},
   "source": [
    "# Introduction\n",
    "\n",
    "What causes shorter IPv4 (or in general, shorter IPv6)?\n",
    "So far from what I see, there are several possible causes:\n",
    "1. direct peering only for IPv6 traffic\n",
    "2. (?)caused by the network, including the peer itself --> Root Server' ASN and its penultimate ASN are identical, but other AS along the path are different (hypothetical)\n",
    "3. (?)caused by root server itself\n",
    "\n",
    "For no.2 and 3, it is impossible to tell which one is the cause because the only information available is AS path. We need the policy information for each intermediate AS to tell about this"
   ]
  },
  {
   "cell_type": "markdown",
   "metadata": {},
   "source": [
    "## 1. Direct peering"
   ]
  },
  {
   "cell_type": "code",
   "execution_count": 3,
   "metadata": {
    "collapsed": false
   },
   "outputs": [
    {
     "name": "stdout",
     "output_type": "stream",
     "text": [
      "\n",
      "a-Root\n",
      "\tTotal data:\t4236\n",
      "\tshorter IPv6:\t1157\n",
      "\tpercentage:\t27.31%\n",
      "\tshorter IPv6 due to direct peering: 98 (8.47%)\n",
      "\n",
      "c-Root\n",
      "\tTotal data:\t1741\n",
      "\tshorter IPv6:\t47\n",
      "\tpercentage:\t2.70%\n",
      "\tshorter IPv6 due to direct peering: 15 (31.91%)\n",
      "\n",
      "d-Root\n",
      "\tTotal data:\t3593\n",
      "\tshorter IPv6:\t376\n",
      "\tpercentage:\t10.46%\n",
      "\tshorter IPv6 due to direct peering: 0 (0.00%)\n",
      "\n",
      "f-Root\n",
      "\tTotal data:\t2408\n",
      "\tshorter IPv6:\t299\n",
      "\tpercentage:\t12.42%\n",
      "\tshorter IPv6 due to direct peering: 101 (33.78%)\n",
      "\n",
      "i-Root\n",
      "\tTotal data:\t2667\n",
      "\tshorter IPv6:\t472\n",
      "\tpercentage:\t17.70%\n",
      "\tshorter IPv6 due to direct peering: 74 (15.68%)\n",
      "\n",
      "j-Root\n",
      "\tTotal data:\t4362\n",
      "\tshorter IPv6:\t596\n",
      "\tpercentage:\t13.66%\n",
      "\tshorter IPv6 due to direct peering: 100 (16.78%)\n",
      "\n",
      "k-Root\n",
      "\tTotal data:\t3576\n",
      "\tshorter IPv6:\t174\n",
      "\tpercentage:\t4.87%\n",
      "\tshorter IPv6 due to direct peering: 137 (78.74%)\n",
      "\n",
      "l-Root\n",
      "\tTotal data:\t4545\n",
      "\tshorter IPv6:\t213\n",
      "\tpercentage:\t4.69%\n",
      "\tshorter IPv6 due to direct peering: 58 (27.23%)\n",
      "\n",
      "m-Root\n",
      "\tTotal data:\t4003\n",
      "\tshorter IPv6:\t1795\n",
      "\tpercentage:\t44.84%\n",
      "\tshorter IPv6 due to direct peering: 74 (4.12%)\n"
     ]
    }
   ],
   "source": [
    "for root in root_list:\n",
    "    coll = anycast['{}_root'.format(root)]\n",
    "    total = coll.count()\n",
    "    shorter_v6 = coll.find({'$where': where_query}).count()\n",
    "    \n",
    "    counter = 0\n",
    "    for item in coll.find({'$where': where_query}):\n",
    "        if root in root_with_single_upstream:  # it means that \n",
    "            if len(item['path6']) == 3:\n",
    "                counter += 1\n",
    "        else:\n",
    "            if len(item['path6']) == 2:\n",
    "                counter += 1\n",
    "    \n",
    "    print('\\n{}-Root'.format(root))\n",
    "    print('\\tTotal data:\\t{}'.format(total))\n",
    "    print('\\tshorter IPv6:\\t{}'.format(shorter_v6))\n",
    "    print('\\tpercentage:\\t{:.2f}%'.format(shorter_v6 / total * 100))\n",
    "    print('\\tshorter IPv6 due to direct peering: {} ({:.2f}%)'.format(counter, counter / shorter_v6 * 100))\n",
    "        "
   ]
  },
  {
   "cell_type": "code",
   "execution_count": null,
   "metadata": {
    "collapsed": true
   },
   "outputs": [],
   "source": []
  }
 ],
 "metadata": {
  "kernelspec": {
   "display_name": "Python 3",
   "language": "python",
   "name": "python3"
  },
  "language_info": {
   "codemirror_mode": {
    "name": "ipython",
    "version": 3
   },
   "file_extension": ".py",
   "mimetype": "text/x-python",
   "name": "python",
   "nbconvert_exporter": "python",
   "pygments_lexer": "ipython3",
   "version": "3.5.1+"
  }
 },
 "nbformat": 4,
 "nbformat_minor": 0
}
