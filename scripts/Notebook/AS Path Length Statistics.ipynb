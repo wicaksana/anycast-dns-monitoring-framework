{
 "cells": [
  {
   "cell_type": "code",
   "execution_count": 10,
   "metadata": {
    "collapsed": true
   },
   "outputs": [],
   "source": [
    "import requests\n",
    "from pprint import pprint"
   ]
  },
  {
   "cell_type": "markdown",
   "metadata": {},
   "source": [
    "## Objective\n",
    "### To calculate some statistics related to AS path length.\n",
    "\n",
    "#### First thing first, calculate data similar to what you did on the visualization tool"
   ]
  },
  {
   "cell_type": "markdown",
   "metadata": {},
   "source": [
    "Use the following ground truth parameters:"
   ]
  },
  {
   "cell_type": "code",
   "execution_count": 12,
   "metadata": {
    "collapsed": true
   },
   "outputs": [],
   "source": [
    "base_url = ''\n",
    "timestamp = 1204329600  # 2008-03-01\n",
    "prefix4 = '202.12.27.33'  # M-root\n",
    "prefix6 = '2001:dc3::35'"
   ]
  },
  {
   "cell_type": "markdown",
   "metadata": {},
   "source": [
    "Get AS paths and peers for both IPv4 and IPv6 "
   ]
  },
  {
   "cell_type": "code",
   "execution_count": 16,
   "metadata": {
    "collapsed": false
   },
   "outputs": [
    {
     "name": "stdout",
     "output_type": "stream",
     "text": [
      "get_peers https://stat.ripe.net/data/bgp-state/data.json?resource=202.12.27.33&timestamp=1204329600\n",
      "get_peers https://stat.ripe.net/data/bgp-state/data.json?resource=2001:dc3::35&timestamp=1204329600\n"
     ]
    }
   ],
   "source": [
    "def deduplicate(items):\n",
    "    seen = set()\n",
    "    for item in items:\n",
    "        if item not in seen:\n",
    "            yield item\n",
    "            seen.add(item)\n",
    "\n",
    "def get_peers(prefix, timestamp):\n",
    "    url = 'https://stat.ripe.net/data/bgp-state/data.json?resource={0}&timestamp={1}'.format(prefix, timestamp)\n",
    "    print('get_peers {}'.format(url))\n",
    "    data = requests.get(url).json()\n",
    "    data = data['data']['bgp_state']\n",
    "\n",
    "    bgp_state = []\n",
    "    if data:\n",
    "        for item in data:\n",
    "            route_info = {\n",
    "                'peer': item['path'][0],\n",
    "                'root': item['path'][-1],\n",
    "                'as_path': list(deduplicate(item['path']))\n",
    "            }\n",
    "            bgp_state.append(route_info)\n",
    "\n",
    "    peer = [item['peer'] for item in bgp_state]\n",
    "\n",
    "    return bgp_state, peer\n",
    "\n",
    "\n",
    "############################################################\n",
    "\n",
    "bgp_state4, peer4 = get_peers(prefix4, timestamp)\n",
    "bgp_state6, peer6 = get_peers(prefix6, timestamp)"
   ]
  },
  {
   "cell_type": "markdown",
   "metadata": {},
   "source": [
    "Find mutual peers"
   ]
  },
  {
   "cell_type": "code",
   "execution_count": 17,
   "metadata": {
    "collapsed": true
   },
   "outputs": [],
   "source": [
    "mutual_peers = list(set(peer4) & set(peer6))"
   ]
  },
  {
   "cell_type": "markdown",
   "metadata": {},
   "source": [
    "Get mutual peers data"
   ]
  },
  {
   "cell_type": "code",
   "execution_count": 18,
   "metadata": {
    "collapsed": true
   },
   "outputs": [],
   "source": [
    "def get_peers_stat(peers, bgp_state4, bgp_state6):\n",
    "    result = []\n",
    "    for peer in sorted(peers):\n",
    "        path4 = [d['as_path'] for d in bgp_state4 if d['peer'] == peer][0]\n",
    "        path6 = [d['as_path'] for d in bgp_state6 if d['peer'] == peer][0]\n",
    "        similar = 1 if path4 == path6 else 0\n",
    "        temp_res = {\n",
    "            'peer': peer,\n",
    "            'similar': similar,\n",
    "            'path4': path4,\n",
    "            'path6': path6\n",
    "        }\n",
    "        result.append(temp_res)\n",
    "\n",
    "    return result\n",
    "\n",
    "##########################################################################\n",
    "\n",
    "mutual_peers_stat = get_peers_stat(mutual_peers, bgp_state4, bgp_state6)"
   ]
  },
  {
   "cell_type": "code",
   "execution_count": 20,
   "metadata": {
    "collapsed": false,
    "scrolled": true
   },
   "outputs": [
    {
     "name": "stdout",
     "output_type": "stream",
     "text": [
      "[{'path4': [286, 3257, 7500],\n",
      "  'path6': [286, 3257, 7500],\n",
      "  'peer': 286,\n",
      "  'similar': 1},\n",
      " {'path4': [559, 20965, 11537, 22388, 7660, 2500, 7500],\n",
      "  'path6': [559, 20965, 2200, 7500],\n",
      "  'peer': 559,\n",
      "  'similar': 0},\n",
      " {'path4': [1280, 2497, 7500],\n",
      "  'path6': [1280, 2500, 7500],\n",
      "  'peer': 1280,\n",
      "  'similar': 0},\n",
      " {'path4': [1853, 20965, 11537, 22388, 7660, 2500, 7500],\n",
      "  'path6': [1853, 20965, 2200, 7500],\n",
      "  'peer': 1853,\n",
      "  'similar': 0},\n",
      " {'path4': [1916, 27750, 11537, 22388, 7660, 2500, 7500],\n",
      "  'path6': [1916, 3549, 3257, 7500],\n",
      "  'peer': 1916,\n",
      "  'similar': 0},\n",
      " {'path4': [1930, 20965, 11537, 22388, 7660, 2500, 7500],\n",
      "  'path6': [1930, 20965, 2200, 7500],\n",
      "  'peer': 1930,\n",
      "  'similar': 0},\n",
      " {'path4': [2497, 7500], 'path6': [2497, 7500], 'peer': 2497, 'similar': 1},\n",
      " {'path4': [2857, 8928, 2497, 7500],\n",
      "  'path6': [2857, 6695, 3257, 7500],\n",
      "  'peer': 2857,\n",
      "  'similar': 0},\n",
      " {'path4': [2914, 2497, 7500],\n",
      "  'path6': [2914, 7500],\n",
      "  'peer': 2914,\n",
      "  'similar': 0},\n",
      " {'path4': [3257, 7500], 'path6': [3257, 7500], 'peer': 3257, 'similar': 1},\n",
      " {'path4': [6667, 3257, 7500],\n",
      "  'path6': [6667, 3257, 7500],\n",
      "  'peer': 6667,\n",
      "  'similar': 1},\n",
      " {'path4': [6762, 3257, 7500],\n",
      "  'path6': [6762, 3257, 7500],\n",
      "  'peer': 6762,\n",
      "  'similar': 1},\n",
      " {'path4': [7575, 24490, 24287, 7660, 2500, 7500],\n",
      "  'path6': [7575, 20965, 2200, 7500],\n",
      "  'peer': 7575,\n",
      "  'similar': 0},\n",
      " {'path4': [8447, 1299, 7500],\n",
      "  'path6': [8447, 6175, 3257, 7500],\n",
      "  'peer': 8447,\n",
      "  'similar': 0},\n",
      " {'path4': [12779, 1239, 3257, 7500],\n",
      "  'path6': [12779, 3257, 7500],\n",
      "  'peer': 12779,\n",
      "  'similar': 0},\n",
      " {'path4': [12859, 174, 7500],\n",
      "  'path6': [12859, 3257, 7500],\n",
      "  'peer': 12859,\n",
      "  'similar': 0},\n",
      " {'path4': [13237, 2497, 7500],\n",
      "  'path6': [13237, 3257, 7500],\n",
      "  'peer': 13237,\n",
      "  'similar': 0},\n",
      " {'path4': [24875, 174, 7500],\n",
      "  'path6': [24875, 6453, 7500],\n",
      "  'peer': 24875,\n",
      "  'similar': 0},\n",
      " {'path4': [29449, 5392, 3257, 7500],\n",
      "  'path6': [29449, 5602, 3257, 7500],\n",
      "  'peer': 29449,\n",
      "  'similar': 0},\n",
      " {'path4': [29636, 3257, 7500],\n",
      "  'path6': [29636, 2914, 7500],\n",
      "  'peer': 29636,\n",
      "  'similar': 0},\n",
      " {'path4': [29686, 1299, 7500],\n",
      "  'path6': [29686, 6939, 7500],\n",
      "  'peer': 29686,\n",
      "  'similar': 0},\n",
      " {'path4': [34225, 1299, 7500],\n",
      "  'path6': [34225, 41692, 3257, 7500],\n",
      "  'peer': 34225,\n",
      "  'similar': 0}]\n"
     ]
    }
   ],
   "source": [
    "pprint(mutual_peers_stat)"
   ]
  },
  {
   "cell_type": "markdown",
   "metadata": {},
   "source": [
    "#### Mutual peers"
   ]
  },
  {
   "cell_type": "code",
   "execution_count": 34,
   "metadata": {
    "collapsed": false
   },
   "outputs": [
    {
     "name": "stdout",
     "output_type": "stream",
     "text": [
      "[286, 559, 1280, 1853, 1916, 1930, 2497, 2857, 2914, 3257, 6667, 6762, 7575, 8447, 12779, 12859, 13237, 24875, 29449, 29636, 29686, 34225]\n",
      "total: 22\n"
     ]
    }
   ],
   "source": [
    "result_all = sorted([i['peer'] for i in mutual_peers_stat])\n",
    "print(result_all)\n",
    "print('total: {}'.format(len(result_all)))"
   ]
  },
  {
   "cell_type": "markdown",
   "metadata": {},
   "source": [
    "#### Mutual peers with identical AS path"
   ]
  },
  {
   "cell_type": "code",
   "execution_count": 35,
   "metadata": {
    "collapsed": false,
    "scrolled": true
   },
   "outputs": [
    {
     "name": "stdout",
     "output_type": "stream",
     "text": [
      "[286, 2497, 3257, 6667, 6762]\n",
      "total: 5\n"
     ]
    }
   ],
   "source": [
    "result_identical = sorted([i['peer'] for i in mutual_peers_stat if i['similar'] == 1])\n",
    "print(result_identical)\n",
    "print('total: {}'.format(len(result_identical)))"
   ]
  },
  {
   "cell_type": "markdown",
   "metadata": {},
   "source": [
    "#### Mutual peers with same AS path length but different AS path"
   ]
  },
  {
   "cell_type": "code",
   "execution_count": 39,
   "metadata": {
    "collapsed": false
   },
   "outputs": [
    {
     "name": "stdout",
     "output_type": "stream",
     "text": [
      "[1280, 2857, 12859, 13237, 24875, 29449, 29636, 29686]\n",
      "total: 8\n"
     ]
    }
   ],
   "source": [
    "result_diff = sorted([i['peer'] for i in mutual_peers_stat if len(i['path4']) == len(i['path6']) and i['similar'] == 0])\n",
    "print(result_diff)\n",
    "print('total: {}'.format(len(result_diff)))"
   ]
  },
  {
   "cell_type": "markdown",
   "metadata": {},
   "source": [
    "#### Mutual peers that have longer IPv4 AS path"
   ]
  },
  {
   "cell_type": "code",
   "execution_count": 36,
   "metadata": {
    "collapsed": false
   },
   "outputs": [
    {
     "name": "stdout",
     "output_type": "stream",
     "text": [
      "[559, 1853, 1916, 1930, 2914, 7575, 12779]\n",
      "total: 7\n"
     ]
    }
   ],
   "source": [
    "result_v4_longer = sorted([i['peer'] for i in mutual_peers_stat if len(i['path4']) > len(i['path6'])])\n",
    "print(result_v4_longer)\n",
    "print('total: {}'.format(len(result_v4_longer)))"
   ]
  },
  {
   "cell_type": "markdown",
   "metadata": {},
   "source": [
    "#### Mutual peers that have shorter IPv4 AS path"
   ]
  },
  {
   "cell_type": "code",
   "execution_count": 37,
   "metadata": {
    "collapsed": false
   },
   "outputs": [
    {
     "name": "stdout",
     "output_type": "stream",
     "text": [
      "[8447, 34225]\n",
      "total: 2\n"
     ]
    }
   ],
   "source": [
    "result_v4_shorter = sorted([i['peer'] for i in mutual_peers_stat if len(i['path4']) < len(i['path6'])])\n",
    "print(result_v4_shorter)\n",
    "print('total: {}'.format(len(result_v4_shorter)))"
   ]
  },
  {
   "cell_type": "code",
   "execution_count": null,
   "metadata": {
    "collapsed": true
   },
   "outputs": [],
   "source": [
    ""
   ]
  }
 ],
 "metadata": {
  "kernelspec": {
   "display_name": "Python 3",
   "language": "python",
   "name": "python3"
  },
  "language_info": {
   "codemirror_mode": {
    "name": "ipython",
    "version": 3.0
   },
   "file_extension": ".py",
   "mimetype": "text/x-python",
   "name": "python",
   "nbconvert_exporter": "python",
   "pygments_lexer": "ipython3",
   "version": "3.5.1+"
  }
 },
 "nbformat": 4,
 "nbformat_minor": 0
}