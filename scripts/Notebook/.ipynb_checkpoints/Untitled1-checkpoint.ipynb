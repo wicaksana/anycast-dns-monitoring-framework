{
 "cells": [
  {
   "cell_type": "code",
   "execution_count": 76,
   "metadata": {
    "collapsed": true
   },
   "outputs": [],
   "source": [
    "import pandas as pd\n",
    "from pandas import DataFrame\n",
    "from datetime import datetime\n",
    "import numpy as np"
   ]
  },
  {
   "cell_type": "code",
   "execution_count": 77,
   "metadata": {
    "collapsed": false
   },
   "outputs": [
    {
     "data": {
      "text/plain": [
       "A    float64\n",
       "B    float64\n",
       "C    float64\n",
       "D    float64\n",
       "E    float64\n",
       "dtype: object"
      ]
     },
     "execution_count": 77,
     "metadata": {},
     "output_type": "execute_result"
    }
   ],
   "source": [
    "df = pd.DataFrame(np.random.rand(10, 5), columns=['A', 'B', 'C', 'D', 'E'])\n",
    "df.dtypes"
   ]
  },
  {
   "cell_type": "code",
   "execution_count": 78,
   "metadata": {
    "collapsed": false
   },
   "outputs": [
    {
     "data": {
      "text/html": [
       "<div>\n",
       "<table border=\"1\" class=\"dataframe\">\n",
       "  <thead>\n",
       "    <tr style=\"text-align: right;\">\n",
       "      <th></th>\n",
       "      <th>A</th>\n",
       "      <th>B</th>\n",
       "      <th>C</th>\n",
       "      <th>D</th>\n",
       "      <th>E</th>\n",
       "    </tr>\n",
       "  </thead>\n",
       "  <tbody>\n",
       "    <tr>\n",
       "      <th>0</th>\n",
       "      <td>0.669344</td>\n",
       "      <td>0.582414</td>\n",
       "      <td>0.430616</td>\n",
       "      <td>0.849721</td>\n",
       "      <td>0.164726</td>\n",
       "    </tr>\n",
       "    <tr>\n",
       "      <th>1</th>\n",
       "      <td>0.330125</td>\n",
       "      <td>0.687076</td>\n",
       "      <td>0.740240</td>\n",
       "      <td>0.290001</td>\n",
       "      <td>0.700125</td>\n",
       "    </tr>\n",
       "    <tr>\n",
       "      <th>2</th>\n",
       "      <td>0.685262</td>\n",
       "      <td>0.828853</td>\n",
       "      <td>0.234928</td>\n",
       "      <td>0.420239</td>\n",
       "      <td>0.263685</td>\n",
       "    </tr>\n",
       "    <tr>\n",
       "      <th>3</th>\n",
       "      <td>0.465975</td>\n",
       "      <td>0.432580</td>\n",
       "      <td>0.444025</td>\n",
       "      <td>0.200193</td>\n",
       "      <td>0.526046</td>\n",
       "    </tr>\n",
       "    <tr>\n",
       "      <th>4</th>\n",
       "      <td>0.867196</td>\n",
       "      <td>0.220612</td>\n",
       "      <td>0.398085</td>\n",
       "      <td>0.674462</td>\n",
       "      <td>0.987197</td>\n",
       "    </tr>\n",
       "    <tr>\n",
       "      <th>5</th>\n",
       "      <td>0.283524</td>\n",
       "      <td>0.913829</td>\n",
       "      <td>0.255381</td>\n",
       "      <td>0.809313</td>\n",
       "      <td>0.466126</td>\n",
       "    </tr>\n",
       "    <tr>\n",
       "      <th>6</th>\n",
       "      <td>0.576684</td>\n",
       "      <td>0.350760</td>\n",
       "      <td>0.985775</td>\n",
       "      <td>0.028920</td>\n",
       "      <td>0.787144</td>\n",
       "    </tr>\n",
       "    <tr>\n",
       "      <th>7</th>\n",
       "      <td>0.774110</td>\n",
       "      <td>0.618613</td>\n",
       "      <td>0.963603</td>\n",
       "      <td>0.884309</td>\n",
       "      <td>0.219533</td>\n",
       "    </tr>\n",
       "    <tr>\n",
       "      <th>8</th>\n",
       "      <td>0.675605</td>\n",
       "      <td>0.345910</td>\n",
       "      <td>0.911114</td>\n",
       "      <td>0.024977</td>\n",
       "      <td>0.608729</td>\n",
       "    </tr>\n",
       "    <tr>\n",
       "      <th>9</th>\n",
       "      <td>0.001728</td>\n",
       "      <td>0.092310</td>\n",
       "      <td>0.776584</td>\n",
       "      <td>0.200132</td>\n",
       "      <td>0.702138</td>\n",
       "    </tr>\n",
       "  </tbody>\n",
       "</table>\n",
       "</div>"
      ],
      "text/plain": [
       "          A         B         C         D         E\n",
       "0  0.669344  0.582414  0.430616  0.849721  0.164726\n",
       "1  0.330125  0.687076  0.740240  0.290001  0.700125\n",
       "2  0.685262  0.828853  0.234928  0.420239  0.263685\n",
       "3  0.465975  0.432580  0.444025  0.200193  0.526046\n",
       "4  0.867196  0.220612  0.398085  0.674462  0.987197\n",
       "5  0.283524  0.913829  0.255381  0.809313  0.466126\n",
       "6  0.576684  0.350760  0.985775  0.028920  0.787144\n",
       "7  0.774110  0.618613  0.963603  0.884309  0.219533\n",
       "8  0.675605  0.345910  0.911114  0.024977  0.608729\n",
       "9  0.001728  0.092310  0.776584  0.200132  0.702138"
      ]
     },
     "execution_count": 78,
     "metadata": {},
     "output_type": "execute_result"
    }
   ],
   "source": [
    "df"
   ]
  },
  {
   "cell_type": "code",
   "execution_count": 79,
   "metadata": {
    "collapsed": false
   },
   "outputs": [],
   "source": [
    "df = df.set_index('E')"
   ]
  },
  {
   "cell_type": "code",
   "execution_count": 80,
   "metadata": {
    "collapsed": false
   },
   "outputs": [
    {
     "data": {
      "text/plain": [
       "[0.16472583418525921,\n",
       " 0.70012481823549999,\n",
       " 0.26368520128736861,\n",
       " 0.52604562834325908,\n",
       " 0.98719662954418674,\n",
       " 0.46612637026272241,\n",
       " 0.78714446866726406,\n",
       " 0.21953309556566791,\n",
       " 0.60872878712582001,\n",
       " 0.70213828030105474]"
      ]
     },
     "execution_count": 80,
     "metadata": {},
     "output_type": "execute_result"
    }
   ],
   "source": [
    "df.index.tolist()"
   ]
  },
  {
   "cell_type": "code",
   "execution_count": 81,
   "metadata": {
    "collapsed": false
   },
   "outputs": [],
   "source": [
    "t = DataFrame({'dummy': [1, 2]})"
   ]
  },
  {
   "cell_type": "code",
   "execution_count": 82,
   "metadata": {
    "collapsed": true
   },
   "outputs": [],
   "source": [
    "s = DataFrame({'dat1': [9,5,6,7,8,9]})"
   ]
  },
  {
   "cell_type": "code",
   "execution_count": 83,
   "metadata": {
    "collapsed": false
   },
   "outputs": [],
   "source": [
    "t = t.append(s)"
   ]
  }
 ],
 "metadata": {
  "kernelspec": {
   "display_name": "Python 3",
   "language": "python",
   "name": "python3"
  },
  "language_info": {
   "codemirror_mode": {
    "name": "ipython",
    "version": 3
   },
   "file_extension": ".py",
   "mimetype": "text/x-python",
   "name": "python",
   "nbconvert_exporter": "python",
   "pygments_lexer": "ipython3",
   "version": "3.5.1+"
  }
 },
 "nbformat": 4,
 "nbformat_minor": 0
}
